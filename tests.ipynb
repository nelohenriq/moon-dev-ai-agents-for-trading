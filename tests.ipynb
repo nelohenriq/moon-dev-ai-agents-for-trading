{
 "cells": [
  {
   "cell_type": "code",
   "execution_count": 4,
   "metadata": {},
   "outputs": [
    {
     "name": "stdout",
     "output_type": "stream",
     "text": [
      "{'C4su4UzsPgbDApTEWFThKwbTyHE9ZoRnV7TXwrtL55SB': [], 'AnsWpQ5KzJpns4fTXQWzWg8YakJMrDS2T6M3TpUX4t5U': [], '93AX7iJUTbzmzB4vHXCRHjfLyrskAfNd1ReRQkfRUnXL': []}\n"
     ]
    }
   ],
   "source": [
    "import requests\n",
    "\n",
    "# Base URL for Solana RPC endpoint\n",
    "rpc_url = \"https://api.mainnet-beta.solana.com\"\n",
    "\n",
    "# List of wallet addresses holding some tokens (example)\n",
    "wallet_addresses = [\n",
    "    'C4su4UzsPgbDApTEWFThKwbTyHE9ZoRnV7TXwrtL55SB',\n",
    "    'AnsWpQ5KzJpns4fTXQWzWg8YakJMrDS2T6M3TpUX4t5U',\n",
    "    '93AX7iJUTbzmzB4vHXCRHjfLyrskAfNd1ReRQkfRUnXL',\n",
    "    # Add more wallet addresses...\n",
    "]\n",
    "\n",
    "def get_token_accounts_by_owner(wallet_address):\n",
    "    headers = {'Content-Type': 'application/json'}\n",
    "    payload = {\n",
    "        \"jsonrpc\": \"2.0\",\n",
    "        \"id\": 1,\n",
    "        \"method\": \"getTokenAccountsByOwner\",\n",
    "        \"params\": [\n",
    "            wallet_address,\n",
    "            {\n",
    "                \"programId\": \"TokenkegQfeZyiNwAJbNbGKPFXCWuBvf9Ss623VQ5DA\",\n",
    "                \"encoding\": \"jsonParsed\"\n",
    "            }\n",
    "        ]\n",
    "    }\n",
    "\n",
    "    response = requests.post(rpc_url, json=payload, headers=headers)\n",
    "    return response.json()\n",
    "\n",
    "# Loop through each wallet and retrieve their token accounts\n",
    "wallet_to_mints = {}\n",
    "\n",
    "for wallet in wallet_addresses:\n",
    "    accounts = get_token_accounts_by_owner(wallet)\n",
    "    # Extract mint addresses for each wallet\n",
    "    mints = [account['account']['data']['parsed']['info']['mint'] for account in accounts.get('result', {}).get('value', [])]\n",
    "    \n",
    "    # Store the mint addresses for each wallet\n",
    "    wallet_to_mints[wallet] = mints\n",
    "\n",
    "# Print the mint addresses associated with each wallet\n",
    "print(wallet_to_mints)"
   ]
  }
 ],
 "metadata": {
  "kernelspec": {
   "display_name": ".venv",
   "language": "python",
   "name": "python3"
  },
  "language_info": {
   "codemirror_mode": {
    "name": "ipython",
    "version": 3
   },
   "file_extension": ".py",
   "mimetype": "text/x-python",
   "name": "python",
   "nbconvert_exporter": "python",
   "pygments_lexer": "ipython3",
   "version": "3.12.9"
  }
 },
 "nbformat": 4,
 "nbformat_minor": 2
}
